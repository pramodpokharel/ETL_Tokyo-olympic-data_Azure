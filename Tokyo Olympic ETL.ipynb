{
 "cells": [
  {
   "cell_type": "code",
   "execution_count": 1,
   "metadata": {
    "application/vnd.databricks.v1+cell": {
     "cellMetadata": {
      "byteLimit": 2048000,
      "rowLimit": 10000
     },
     "inputWidgets": {},
     "nuid": "317d4fa3-002f-49b1-84cf-aabf8e321081",
     "showTitle": false,
     "title": ""
    }
   },
   "outputs": [],
   "source": [
    "configs = {\n",
    "    \"fs.azure.account.auth.type\": \"OAuth\",\n",
    "    \"fs.azure.account.oauth.provider.type\": \"org.apache.hadoop.fs.azurebfs.oauth2.ClientCredsTokenProvider\",\n",
    "    \"fs.azure.account.oauth2.client.id\": \"client_id\",\n",
    "    \"fs.azure.account.oauth2.client.secret\": \"secret_value\",\n",
    "    \"fs.azure.account.oauth2.client.endpoint\": \"https://login.microsoftonline.com/tenant_id/oauth2/v2.0/token\",\n",
    "    \"fs.azure.createRemoteFileSystemDuringInitialization\": \"true\"\n",
    "}\n",
    "\n",
    "try:\n",
    "    dbutils.fs.mount(\n",
    "        source=\"abfss://tokyo-olympic-data@tokyoolympicdatapramod.dfs.core.windows.net\",  # container@storage account\n",
    "        mount_point=\"/mnt/tokyoolymic\",\n",
    "        extra_configs=configs\n",
    "    )"
   ]
  },
  {
   "cell_type": "code",
   "execution_count": 0,
   "metadata": {
    "application/vnd.databricks.v1+cell": {
     "cellMetadata": {
      "byteLimit": 2048000,
      "rowLimit": 10000
     },
     "inputWidgets": {},
     "nuid": "3428af3f-0725-480d-a56d-33cf18f2442b",
     "showTitle": false,
     "title": ""
    }
   },
   "outputs": [
    {
     "data": {
      "text/html": [
       "<style scoped>\n",
       "  .table-result-container {\n",
       "    max-height: 300px;\n",
       "    overflow: auto;\n",
       "  }\n",
       "  table, th, td {\n",
       "    border: 1px solid black;\n",
       "    border-collapse: collapse;\n",
       "  }\n",
       "  th, td {\n",
       "    padding: 5px;\n",
       "  }\n",
       "  th {\n",
       "    text-align: left;\n",
       "  }\n",
       "</style><div class='table-result-container'><table class='table-result'><thead style='background-color: white'><tr><th>path</th><th>name</th><th>size</th><th>modificationTime</th></tr></thead><tbody><tr><td>dbfs:/mnt/tokyoolymic/raw-data/</td><td>raw-data/</td><td>0</td><td>1706529407000</td></tr><tr><td>dbfs:/mnt/tokyoolymic/transformed-data/</td><td>transformed-data/</td><td>0</td><td>1706529420000</td></tr></tbody></table></div>"
      ]
     },
     "metadata": {
      "application/vnd.databricks.v1+output": {
       "addedWidgets": {},
       "aggData": [],
       "aggError": "",
       "aggOverflow": false,
       "aggSchema": [],
       "aggSeriesLimitReached": false,
       "aggType": "",
       "arguments": {},
       "columnCustomDisplayInfos": {},
       "data": [
        [
         "dbfs:/mnt/tokyoolymic/raw-data/",
         "raw-data/",
         0,
         1706529407000
        ],
        [
         "dbfs:/mnt/tokyoolymic/transformed-data/",
         "transformed-data/",
         0,
         1706529420000
        ]
       ],
       "datasetInfos": [],
       "dbfsResultPath": null,
       "isJsonSchema": true,
       "metadata": {
        "isDbfsCommandResult": false
       },
       "overflow": false,
       "plotOptions": {
        "customPlotOptions": {},
        "displayType": "table",
        "pivotAggregation": null,
        "pivotColumns": null,
        "xColumns": null,
        "yColumns": null
       },
       "removedWidgets": [],
       "schema": [
        {
         "metadata": "{}",
         "name": "path",
         "type": "\"string\""
        },
        {
         "metadata": "{}",
         "name": "name",
         "type": "\"string\""
        },
        {
         "metadata": "{}",
         "name": "size",
         "type": "\"long\""
        },
        {
         "metadata": "{}",
         "name": "modificationTime",
         "type": "\"long\""
        }
       ],
       "type": "table"
      }
     },
     "output_type": "display_data"
    }
   ],
   "source": [
    "%fs\n",
    "ls \"mnt/tokyoolymic\""
   ]
  },
  {
   "cell_type": "code",
   "execution_count": 0,
   "metadata": {
    "application/vnd.databricks.v1+cell": {
     "cellMetadata": {
      "byteLimit": 2048000,
      "rowLimit": 10000
     },
     "inputWidgets": {},
     "nuid": "e2c6e87a-19cd-491c-b65b-72def7e1012f",
     "showTitle": false,
     "title": ""
    }
   },
   "outputs": [
    {
     "data": {
      "text/html": [
       "\n",
       "            <div>\n",
       "                <p><b>SparkSession - hive</b></p>\n",
       "                \n",
       "        <div>\n",
       "            <p><b>SparkContext</b></p>\n",
       "\n",
       "            <p><a href=\"/?o=1379477285436131#setting/sparkui/0129-134854-massdyml/driver-3762925417752334885\">Spark UI</a></p>\n",
       "\n",
       "            <dl>\n",
       "              <dt>Version</dt>\n",
       "                <dd><code>v3.4.1</code></dd>\n",
       "              <dt>Master</dt>\n",
       "                <dd><code>local[*, 4]</code></dd>\n",
       "              <dt>AppName</dt>\n",
       "                <dd><code>Databricks Shell</code></dd>\n",
       "            </dl>\n",
       "        </div>\n",
       "        \n",
       "            </div>\n",
       "        "
      ],
      "text/plain": [
       "<pyspark.sql.session.SparkSession at 0x7f1f89fdaa40>"
      ]
     },
     "execution_count": 44,
     "metadata": {},
     "output_type": "execute_result"
    }
   ],
   "source": [
    "# starting spark session\n",
    "spark"
   ]
  },
  {
   "cell_type": "code",
   "execution_count": 0,
   "metadata": {
    "application/vnd.databricks.v1+cell": {
     "cellMetadata": {
      "byteLimit": 2048000,
      "rowLimit": 10000
     },
     "inputWidgets": {},
     "nuid": "54bb1be3-a7cc-41ed-8c3b-7fccb57ba7ca",
     "showTitle": false,
     "title": ""
    }
   },
   "outputs": [],
   "source": [
    "athletes = spark.read.format(\"csv\").option(\"header\",\"true\").option(\"inferSchema\",\"true\").load(\"/mnt/tokyoolymic/raw-data/athletes.csv\")\n",
    "coaches = spark.read.format(\"csv\").option(\"header\",\"true\").option(\"inferSchema\",\"true\").load(\"/mnt/tokyoolymic/raw-data/coaches.csv\")\n",
    "entriesgender = spark.read.format(\"csv\").option(\"header\",\"true\").option(\"inferSchema\",\"true\").load(\"/mnt/tokyoolymic/raw-data/entriesgender.csv\")\n",
    "medals = spark.read.format(\"csv\").option(\"header\",\"true\").option(\"inferSchema\",\"true\").load(\"/mnt/tokyoolymic/raw-data/medals.csv\")\n",
    "teams = spark.read.format(\"csv\").option(\"header\",\"true\").option(\"inferSchema\",\"true\").load(\"/mnt/tokyoolymic/raw-data/teams.csv\")"
   ]
  },
  {
   "cell_type": "code",
   "execution_count": 0,
   "metadata": {
    "application/vnd.databricks.v1+cell": {
     "cellMetadata": {
      "byteLimit": 2048000,
      "rowLimit": 10000
     },
     "inputWidgets": {},
     "nuid": "7194c5c6-1abc-4721-b2ca-a6a69091ca1f",
     "showTitle": false,
     "title": ""
    }
   },
   "outputs": [
    {
     "name": "stdout",
     "output_type": "stream",
     "text": [
      "+--------------------+--------------------+-------------------+\n",
      "|                Name|                 NOC|         Discipline|\n",
      "+--------------------+--------------------+-------------------+\n",
      "|     AALERUD Katrine|              Norway|       Cycling Road|\n",
      "|         ABAD Nestor|               Spain|Artistic Gymnastics|\n",
      "|   ABAGNALE Giovanni|               Italy|             Rowing|\n",
      "|      ABALDE Alberto|               Spain|         Basketball|\n",
      "|       ABALDE Tamara|               Spain|         Basketball|\n",
      "|           ABALO Luc|              France|           Handball|\n",
      "|        ABAROA Cesar|               Chile|             Rowing|\n",
      "|       ABASS Abobakr|               Sudan|           Swimming|\n",
      "|    ABBASALI Hamideh|Islamic Republic ...|             Karate|\n",
      "|       ABBASOV Islam|          Azerbaijan|          Wrestling|\n",
      "|        ABBINGH Lois|         Netherlands|           Handball|\n",
      "|         ABBOT Emily|           Australia|Rhythmic Gymnastics|\n",
      "|       ABBOTT Monica|United States of ...|  Baseball/Softball|\n",
      "|ABDALLA Abubaker ...|               Qatar|          Athletics|\n",
      "|      ABDALLA Maryam|               Egypt|  Artistic Swimming|\n",
      "|      ABDALLAH Shahd|               Egypt|  Artistic Swimming|\n",
      "| ABDALRASOOL Mohamed|               Sudan|               Judo|\n",
      "|   ABDEL LATIF Radwa|               Egypt|           Shooting|\n",
      "|    ABDEL RAZEK Samy|               Egypt|           Shooting|\n",
      "|   ABDELAZIZ Abdalla|               Egypt|             Karate|\n",
      "+--------------------+--------------------+-------------------+\n",
      "only showing top 20 rows\n",
      "\n"
     ]
    }
   ],
   "source": [
    "athletes.show()"
   ]
  },
  {
   "cell_type": "code",
   "execution_count": 0,
   "metadata": {
    "application/vnd.databricks.v1+cell": {
     "cellMetadata": {
      "byteLimit": 2048000,
      "rowLimit": 10000
     },
     "inputWidgets": {},
     "nuid": "e5fb5b55-ff62-4bfe-a44b-06b6219ba123",
     "showTitle": false,
     "title": ""
    }
   },
   "outputs": [
    {
     "name": "stdout",
     "output_type": "stream",
     "text": [
      "root\n",
      " |-- Name: string (nullable = true)\n",
      " |-- NOC: string (nullable = true)\n",
      " |-- Discipline: string (nullable = true)\n",
      "\n"
     ]
    }
   ],
   "source": [
    "athletes.printSchema()"
   ]
  },
  {
   "cell_type": "code",
   "execution_count": 0,
   "metadata": {
    "application/vnd.databricks.v1+cell": {
     "cellMetadata": {
      "byteLimit": 2048000,
      "rowLimit": 10000
     },
     "inputWidgets": {},
     "nuid": "ee5aa372-8790-4f67-831b-1d7ebe472126",
     "showTitle": false,
     "title": ""
    }
   },
   "outputs": [
    {
     "name": "stdout",
     "output_type": "stream",
     "text": [
      "+--------------------+------+----+-----+\n",
      "|          Discipline|Female|Male|Total|\n",
      "+--------------------+------+----+-----+\n",
      "|      3x3 Basketball|    32|  32|   64|\n",
      "|             Archery|    64|  64|  128|\n",
      "| Artistic Gymnastics|    98|  98|  196|\n",
      "|   Artistic Swimming|   105|   0|  105|\n",
      "|           Athletics|   969|1072| 2041|\n",
      "|           Badminton|    86|  87|  173|\n",
      "|   Baseball/Softball|    90| 144|  234|\n",
      "|          Basketball|   144| 144|  288|\n",
      "|    Beach Volleyball|    48|  48|   96|\n",
      "|              Boxing|   102| 187|  289|\n",
      "|        Canoe Slalom|    41|  41|   82|\n",
      "|        Canoe Sprint|   123| 126|  249|\n",
      "|Cycling BMX Frees...|    10|   9|   19|\n",
      "|  Cycling BMX Racing|    24|  24|   48|\n",
      "|Cycling Mountain ...|    38|  38|   76|\n",
      "|        Cycling Road|    70| 131|  201|\n",
      "|       Cycling Track|    90|  99|  189|\n",
      "|              Diving|    72|  71|  143|\n",
      "|          Equestrian|    73| 125|  198|\n",
      "|             Fencing|   107| 108|  215|\n",
      "+--------------------+------+----+-----+\n",
      "only showing top 20 rows\n",
      "\n"
     ]
    }
   ],
   "source": [
    "entriesgender.show()"
   ]
  },
  {
   "cell_type": "code",
   "execution_count": 0,
   "metadata": {
    "application/vnd.databricks.v1+cell": {
     "cellMetadata": {
      "byteLimit": 2048000,
      "rowLimit": 10000
     },
     "inputWidgets": {},
     "nuid": "194feff8-8587-4571-899f-0ec4360a6fe7",
     "showTitle": false,
     "title": ""
    }
   },
   "outputs": [
    {
     "name": "stdout",
     "output_type": "stream",
     "text": [
      "root\n",
      " |-- Discipline: string (nullable = true)\n",
      " |-- Female: integer (nullable = true)\n",
      " |-- Male: integer (nullable = true)\n",
      " |-- Total: integer (nullable = true)\n",
      "\n"
     ]
    }
   ],
   "source": [
    "entriesgender.printSchema()"
   ]
  },
  {
   "cell_type": "code",
   "execution_count": 0,
   "metadata": {
    "application/vnd.databricks.v1+cell": {
     "cellMetadata": {
      "byteLimit": 2048000,
      "rowLimit": 10000
     },
     "inputWidgets": {},
     "nuid": "c02cf944-28d4-4aea-9cfd-8f782824ee47",
     "showTitle": false,
     "title": ""
    }
   },
   "outputs": [
    {
     "name": "stdout",
     "output_type": "stream",
     "text": [
      "+----+--------------------+----+------+------+-----+-------------+\n",
      "|Rank|            Team/NOC|Gold|Silver|Bronze|Total|Rank by Total|\n",
      "+----+--------------------+----+------+------+-----+-------------+\n",
      "|   1|United States of ...|  39|    41|    33|  113|            1|\n",
      "|   2|People's Republic...|  38|    32|    18|   88|            2|\n",
      "|   3|               Japan|  27|    14|    17|   58|            5|\n",
      "|   4|       Great Britain|  22|    21|    22|   65|            4|\n",
      "|   5|                 ROC|  20|    28|    23|   71|            3|\n",
      "|   6|           Australia|  17|     7|    22|   46|            6|\n",
      "|   7|         Netherlands|  10|    12|    14|   36|            9|\n",
      "|   8|              France|  10|    12|    11|   33|           10|\n",
      "|   9|             Germany|  10|    11|    16|   37|            8|\n",
      "|  10|               Italy|  10|    10|    20|   40|            7|\n",
      "|  11|              Canada|   7|     6|    11|   24|           11|\n",
      "|  12|              Brazil|   7|     6|     8|   21|           12|\n",
      "|  13|         New Zealand|   7|     6|     7|   20|           13|\n",
      "|  14|                Cuba|   7|     3|     5|   15|           18|\n",
      "|  15|             Hungary|   6|     7|     7|   20|           13|\n",
      "|  16|   Republic of Korea|   6|     4|    10|   20|           13|\n",
      "|  17|              Poland|   4|     5|     5|   14|           19|\n",
      "|  18|      Czech Republic|   4|     4|     3|   11|           23|\n",
      "|  19|               Kenya|   4|     4|     2|   10|           25|\n",
      "|  20|              Norway|   4|     2|     2|    8|           29|\n",
      "+----+--------------------+----+------+------+-----+-------------+\n",
      "only showing top 20 rows\n",
      "\n"
     ]
    }
   ],
   "source": [
    "medals.show()"
   ]
  },
  {
   "cell_type": "code",
   "execution_count": 0,
   "metadata": {
    "application/vnd.databricks.v1+cell": {
     "cellMetadata": {
      "byteLimit": 2048000,
      "rowLimit": 10000
     },
     "inputWidgets": {},
     "nuid": "23f1c238-fe4f-43dd-9de5-c86d0a741dab",
     "showTitle": false,
     "title": ""
    }
   },
   "outputs": [
    {
     "name": "stdout",
     "output_type": "stream",
     "text": [
      "root\n",
      " |-- Rank: integer (nullable = true)\n",
      " |-- Team/NOC: string (nullable = true)\n",
      " |-- Gold: integer (nullable = true)\n",
      " |-- Silver: integer (nullable = true)\n",
      " |-- Bronze: integer (nullable = true)\n",
      " |-- Total: integer (nullable = true)\n",
      " |-- Rank by Total: integer (nullable = true)\n",
      "\n"
     ]
    }
   ],
   "source": [
    "medals.printSchema()"
   ]
  },
  {
   "cell_type": "code",
   "execution_count": 0,
   "metadata": {
    "application/vnd.databricks.v1+cell": {
     "cellMetadata": {
      "byteLimit": 2048000,
      "rowLimit": 10000
     },
     "inputWidgets": {},
     "nuid": "90ddc02e-ed18-42d2-ac56-61ab85a82ff5",
     "showTitle": false,
     "title": ""
    }
   },
   "outputs": [
    {
     "name": "stdout",
     "output_type": "stream",
     "text": [
      "+----+--------------------+----+------+------+-----+-------------+\n",
      "|Rank|            Team/NOC|Gold|Silver|Bronze|Total|Rank by Total|\n",
      "+----+--------------------+----+------+------+-----+-------------+\n",
      "|   1|United States of ...|  39|    41|    33|  113|            1|\n",
      "|   2|People's Republic...|  38|    32|    18|   88|            2|\n",
      "|   3|               Japan|  27|    14|    17|   58|            5|\n",
      "|   4|       Great Britain|  22|    21|    22|   65|            4|\n",
      "|   5|                 ROC|  20|    28|    23|   71|            3|\n",
      "|   6|           Australia|  17|     7|    22|   46|            6|\n",
      "|   7|         Netherlands|  10|    12|    14|   36|            9|\n",
      "|   8|              France|  10|    12|    11|   33|           10|\n",
      "|   9|             Germany|  10|    11|    16|   37|            8|\n",
      "|  10|               Italy|  10|    10|    20|   40|            7|\n",
      "|  11|              Canada|   7|     6|    11|   24|           11|\n",
      "|  12|              Brazil|   7|     6|     8|   21|           12|\n",
      "|  13|         New Zealand|   7|     6|     7|   20|           13|\n",
      "|  14|                Cuba|   7|     3|     5|   15|           18|\n",
      "|  15|             Hungary|   6|     7|     7|   20|           13|\n",
      "|  16|   Republic of Korea|   6|     4|    10|   20|           13|\n",
      "|  17|              Poland|   4|     5|     5|   14|           19|\n",
      "|  18|      Czech Republic|   4|     4|     3|   11|           23|\n",
      "|  19|               Kenya|   4|     4|     2|   10|           25|\n",
      "|  20|              Norway|   4|     2|     2|    8|           29|\n",
      "+----+--------------------+----+------+------+-----+-------------+\n",
      "only showing top 20 rows\n",
      "\n"
     ]
    }
   ],
   "source": [
    "medals.show()"
   ]
  },
  {
   "cell_type": "code",
   "execution_count": 0,
   "metadata": {
    "application/vnd.databricks.v1+cell": {
     "cellMetadata": {},
     "inputWidgets": {},
     "nuid": "ef8401bd-b7de-48a1-9a67-672d5f19f3a9",
     "showTitle": false,
     "title": ""
    }
   },
   "outputs": [],
   "source": []
  },
  {
   "cell_type": "code",
   "execution_count": 0,
   "metadata": {
    "application/vnd.databricks.v1+cell": {
     "cellMetadata": {
      "byteLimit": 2048000,
      "rowLimit": 10000
     },
     "inputWidgets": {},
     "nuid": "86140bfd-b83f-4357-9a4f-468bf9ac858f",
     "showTitle": false,
     "title": ""
    }
   },
   "outputs": [
    {
     "name": "stdout",
     "output_type": "stream",
     "text": [
      "root\n",
      " |-- Rank: integer (nullable = true)\n",
      " |-- Team/NOC: string (nullable = true)\n",
      " |-- Gold: integer (nullable = true)\n",
      " |-- Silver: integer (nullable = true)\n",
      " |-- Bronze: integer (nullable = true)\n",
      " |-- Total: integer (nullable = true)\n",
      " |-- Rank by Total: integer (nullable = true)\n",
      "\n"
     ]
    }
   ],
   "source": [
    "medals.printSchema()"
   ]
  },
  {
   "cell_type": "code",
   "execution_count": 0,
   "metadata": {
    "application/vnd.databricks.v1+cell": {
     "cellMetadata": {
      "byteLimit": 2048000,
      "rowLimit": 10000
     },
     "inputWidgets": {},
     "nuid": "b36ee8c9-9e9c-47c4-9e73-7e5c651dc772",
     "showTitle": false,
     "title": ""
    }
   },
   "outputs": [
    {
     "name": "stdout",
     "output_type": "stream",
     "text": [
      "+-------------+--------------+--------------------+------------+\n",
      "|         Name|    Discipline|                 NOC|       Event|\n",
      "+-------------+--------------+--------------------+------------+\n",
      "|      Belgium|3x3 Basketball|             Belgium|         Men|\n",
      "|        China|3x3 Basketball|People's Republic...|         Men|\n",
      "|        China|3x3 Basketball|People's Republic...|       Women|\n",
      "|       France|3x3 Basketball|              France|       Women|\n",
      "|        Italy|3x3 Basketball|               Italy|       Women|\n",
      "|        Japan|3x3 Basketball|               Japan|         Men|\n",
      "|        Japan|3x3 Basketball|               Japan|       Women|\n",
      "|       Latvia|3x3 Basketball|              Latvia|         Men|\n",
      "|     Mongolia|3x3 Basketball|            Mongolia|       Women|\n",
      "|  Netherlands|3x3 Basketball|         Netherlands|         Men|\n",
      "|       Poland|3x3 Basketball|              Poland|         Men|\n",
      "|          ROC|3x3 Basketball|                 ROC|         Men|\n",
      "|          ROC|3x3 Basketball|                 ROC|       Women|\n",
      "|      Romania|3x3 Basketball|             Romania|       Women|\n",
      "|       Serbia|3x3 Basketball|              Serbia|         Men|\n",
      "|United States|3x3 Basketball|United States of ...|       Women|\n",
      "|    Australia|       Archery|           Australia|  Men's Team|\n",
      "|    Australia|       Archery|           Australia|  Mixed Team|\n",
      "|   Bangladesh|       Archery|          Bangladesh|  Mixed Team|\n",
      "|      Belarus|       Archery|             Belarus|Women's Team|\n",
      "+-------------+--------------+--------------------+------------+\n",
      "only showing top 20 rows\n",
      "\n"
     ]
    }
   ],
   "source": [
    "teams.show()"
   ]
  },
  {
   "cell_type": "code",
   "execution_count": 0,
   "metadata": {
    "application/vnd.databricks.v1+cell": {
     "cellMetadata": {
      "byteLimit": 2048000,
      "rowLimit": 10000
     },
     "inputWidgets": {},
     "nuid": "47135b84-e52e-4d21-9a16-f25de572a610",
     "showTitle": false,
     "title": ""
    }
   },
   "outputs": [
    {
     "name": "stdout",
     "output_type": "stream",
     "text": [
      "root\n",
      " |-- Name: string (nullable = true)\n",
      " |-- Discipline: string (nullable = true)\n",
      " |-- NOC: string (nullable = true)\n",
      " |-- Event: string (nullable = true)\n",
      "\n"
     ]
    }
   ],
   "source": [
    "teams.printSchema()"
   ]
  },
  {
   "cell_type": "code",
   "execution_count": 0,
   "metadata": {
    "application/vnd.databricks.v1+cell": {
     "cellMetadata": {
      "byteLimit": 2048000,
      "rowLimit": 10000
     },
     "inputWidgets": {},
     "nuid": "09c47fa5-3700-4a7c-91da-c7903614d925",
     "showTitle": false,
     "title": ""
    }
   },
   "outputs": [
    {
     "name": "stdout",
     "output_type": "stream",
     "text": [
      "+----+--------------------+----+------+------+-----+-------------+\n",
      "|Rank|            Team/NOC|Gold|Silver|Bronze|Total|Rank by Total|\n",
      "+----+--------------------+----+------+------+-----+-------------+\n",
      "|   1|United States of ...|  39|    41|    33|  113|            1|\n",
      "|   2|People's Republic...|  38|    32|    18|   88|            2|\n",
      "|   3|               Japan|  27|    14|    17|   58|            5|\n",
      "|   4|       Great Britain|  22|    21|    22|   65|            4|\n",
      "|   5|                 ROC|  20|    28|    23|   71|            3|\n",
      "|   6|           Australia|  17|     7|    22|   46|            6|\n",
      "|   7|         Netherlands|  10|    12|    14|   36|            9|\n",
      "|   8|              France|  10|    12|    11|   33|           10|\n",
      "|   9|             Germany|  10|    11|    16|   37|            8|\n",
      "|  10|               Italy|  10|    10|    20|   40|            7|\n",
      "|  14|                Cuba|   7|     3|     5|   15|           18|\n",
      "|  13|         New Zealand|   7|     6|     7|   20|           13|\n",
      "|  12|              Brazil|   7|     6|     8|   21|           12|\n",
      "|  11|              Canada|   7|     6|    11|   24|           11|\n",
      "|  15|             Hungary|   6|     7|     7|   20|           13|\n",
      "|  16|   Republic of Korea|   6|     4|    10|   20|           13|\n",
      "|  19|               Kenya|   4|     4|     2|   10|           25|\n",
      "|  17|              Poland|   4|     5|     5|   14|           19|\n",
      "|  18|      Czech Republic|   4|     4|     3|   11|           23|\n",
      "|  20|              Norway|   4|     2|     2|    8|           29|\n",
      "+----+--------------------+----+------+------+-----+-------------+\n",
      "only showing top 20 rows\n",
      "\n"
     ]
    }
   ],
   "source": [
    "# Find the top countries with most gold medals\n",
    "top_gold_medal_countries = medals.orderBy(\"Gold\", ascending = False).show()"
   ]
  },
  {
   "cell_type": "code",
   "execution_count": 0,
   "metadata": {
    "application/vnd.databricks.v1+cell": {
     "cellMetadata": {
      "byteLimit": 2048000,
      "rowLimit": 10000
     },
     "inputWidgets": {},
     "nuid": "85fa7014-2835-4a7d-a5a8-76a93a601fff",
     "showTitle": false,
     "title": ""
    }
   },
   "outputs": [
    {
     "name": "stdout",
     "output_type": "stream",
     "text": [
      "+--------------------+----+\n",
      "|            Team/NOC|Gold|\n",
      "+--------------------+----+\n",
      "|United States of ...|  39|\n",
      "|People's Republic...|  38|\n",
      "|               Japan|  27|\n",
      "|       Great Britain|  22|\n",
      "|                 ROC|  20|\n",
      "|           Australia|  17|\n",
      "|         Netherlands|  10|\n",
      "|              France|  10|\n",
      "|             Germany|  10|\n",
      "|               Italy|  10|\n",
      "|                Cuba|   7|\n",
      "|         New Zealand|   7|\n",
      "|              Brazil|   7|\n",
      "|              Canada|   7|\n",
      "|             Hungary|   6|\n",
      "|   Republic of Korea|   6|\n",
      "|               Kenya|   4|\n",
      "|              Poland|   4|\n",
      "|      Czech Republic|   4|\n",
      "|              Norway|   4|\n",
      "+--------------------+----+\n",
      "only showing top 20 rows\n",
      "\n"
     ]
    }
   ],
   "source": [
    "top_gold_medal_countries = medals.orderBy(\"Gold\", ascending = False).select(\"Team/NOC\",\"Gold\").show()"
   ]
  },
  {
   "cell_type": "code",
   "execution_count": 0,
   "metadata": {
    "application/vnd.databricks.v1+cell": {
     "cellMetadata": {
      "byteLimit": 2048000,
      "rowLimit": 10000
     },
     "inputWidgets": {},
     "nuid": "ff47f10b-7522-4b41-acae-d7486ea7b831",
     "showTitle": false,
     "title": ""
    }
   },
   "outputs": [
    {
     "name": "stdout",
     "output_type": "stream",
     "text": [
      "+--------------------+------+----+-----+-------------------+-------------------+\n",
      "|          Discipline|Female|Male|Total|         Avg_Female|           Avg_Male|\n",
      "+--------------------+------+----+-----+-------------------+-------------------+\n",
      "|      3x3 Basketball|    32|  32|   64|                0.5|                0.5|\n",
      "|             Archery|    64|  64|  128|                0.5|                0.5|\n",
      "| Artistic Gymnastics|    98|  98|  196|                0.5|                0.5|\n",
      "|   Artistic Swimming|   105|   0|  105|                1.0|                0.0|\n",
      "|           Athletics|   969|1072| 2041| 0.4747672709456149| 0.5252327290543851|\n",
      "|           Badminton|    86|  87|  173|0.49710982658959535| 0.5028901734104047|\n",
      "|   Baseball/Softball|    90| 144|  234|0.38461538461538464| 0.6153846153846154|\n",
      "|          Basketball|   144| 144|  288|                0.5|                0.5|\n",
      "|    Beach Volleyball|    48|  48|   96|                0.5|                0.5|\n",
      "|              Boxing|   102| 187|  289|0.35294117647058826| 0.6470588235294118|\n",
      "|        Canoe Slalom|    41|  41|   82|                0.5|                0.5|\n",
      "|        Canoe Sprint|   123| 126|  249| 0.4939759036144578| 0.5060240963855421|\n",
      "|Cycling BMX Frees...|    10|   9|   19| 0.5263157894736842|0.47368421052631576|\n",
      "|  Cycling BMX Racing|    24|  24|   48|                0.5|                0.5|\n",
      "|Cycling Mountain ...|    38|  38|   76|                0.5|                0.5|\n",
      "|        Cycling Road|    70| 131|  201| 0.3482587064676617| 0.6517412935323383|\n",
      "|       Cycling Track|    90|  99|  189|0.47619047619047616| 0.5238095238095238|\n",
      "|              Diving|    72|  71|  143| 0.5034965034965035| 0.4965034965034965|\n",
      "|          Equestrian|    73| 125|  198| 0.3686868686868687| 0.6313131313131313|\n",
      "|             Fencing|   107| 108|  215|0.49767441860465117| 0.5023255813953489|\n",
      "+--------------------+------+----+-----+-------------------+-------------------+\n",
      "only showing top 20 rows\n",
      "\n"
     ]
    }
   ],
   "source": [
    "# Calculate the average number of entries by gender for each discipline\n",
    "average_entries_by_gender = entriesgender.withColumn(\n",
    "    \"Avg_Female\", entriesgender[\"Female\"] / entriesgender[\"Total\"]\n",
    ").withColumn(\n",
    "    'Avg_Male' , entriesgender['Male'] / entriesgender['Total']\n",
    ")\n",
    "\n",
    "average_entries_by_gender.show()"
   ]
  },
  {
   "cell_type": "code",
   "execution_count": 0,
   "metadata": {
    "application/vnd.databricks.v1+cell": {
     "cellMetadata": {
      "byteLimit": 2048000,
      "rowLimit": 10000
     },
     "inputWidgets": {},
     "nuid": "2fe05c99-8358-4083-880b-ea675766e02e",
     "showTitle": false,
     "title": ""
    }
   },
   "outputs": [],
   "source": [
    "# saving transformed files in transformed data folder\n",
    "\n",
    "athletes.repartition(1).write.mode(\"overwrite\").option(\"header\",'true').csv(\"/mnt/tokyoolymic/transformed-data/athletes\")\n",
    "\n",
    "coaches.repartition(1).write.mode(\"overwrite\").option(\"header\",\"true\").csv(\"/mnt/tokyoolymic/transformed-data/coaches\")\n",
    "entriesgender.repartition(1).write.mode(\"overwrite\").option(\"header\",\"true\").csv(\"/mnt/tokyoolymic/transformed-data/entriesgender\")\n",
    "medals.repartition(1).write.mode(\"overwrite\").option(\"header\",\"true\").csv(\"/mnt/tokyoolymic/transformed-data/medals\")\n",
    "teams.repartition(1).write.mode(\"overwrite\").option(\"header\",\"true\").csv(\"/mnt/tokyoolymic/transformed-data/teams\")"
   ]
  },
  {
   "cell_type": "code",
   "execution_count": 0,
   "metadata": {
    "application/vnd.databricks.v1+cell": {
     "cellMetadata": {},
     "inputWidgets": {},
     "nuid": "edede286-2cac-407e-9aa6-5d9e832047bf",
     "showTitle": false,
     "title": ""
    }
   },
   "outputs": [],
   "source": []
  },
  {
   "cell_type": "code",
   "execution_count": 0,
   "metadata": {
    "application/vnd.databricks.v1+cell": {
     "cellMetadata": {},
     "inputWidgets": {},
     "nuid": "aca26da5-1179-4372-adc9-dc779075321f",
     "showTitle": false,
     "title": ""
    }
   },
   "outputs": [],
   "source": []
  },
  {
   "cell_type": "code",
   "execution_count": 0,
   "metadata": {
    "application/vnd.databricks.v1+cell": {
     "cellMetadata": {},
     "inputWidgets": {},
     "nuid": "6ede4cbe-6d4c-4fa1-85ef-681cd76fc647",
     "showTitle": false,
     "title": ""
    }
   },
   "outputs": [],
   "source": []
  }
 ],
 "metadata": {
  "application/vnd.databricks.v1+notebook": {
   "dashboards": [],
   "language": "python",
   "notebookMetadata": {
    "mostRecentlyExecutedCommandWithImplicitDF": {
     "commandId": 4376465480418575,
     "dataframes": [
      "_sqldf"
     ]
    },
    "pythonIndentUnit": 4
   },
   "notebookName": "Tokyo Olympic ETL",
   "widgets": {}
  },
  "kernelspec": {
   "display_name": "Python 3 (ipykernel)",
   "language": "python",
   "name": "python3"
  },
  "language_info": {
   "codemirror_mode": {
    "name": "ipython",
    "version": 3
   },
   "file_extension": ".py",
   "mimetype": "text/x-python",
   "name": "python",
   "nbconvert_exporter": "python",
   "pygments_lexer": "ipython3",
   "version": "3.11.5"
  }
 },
 "nbformat": 4,
 "nbformat_minor": 1
}
